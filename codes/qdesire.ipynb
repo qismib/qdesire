{
 "cells": [
  {
   "attachments": {},
   "cell_type": "markdown",
   "metadata": {},
   "source": [
    "### Solving Differential Equations with differentiable Quantum Circuits\n",
    "This notebook shows an approach to solving arbitrary differential equation in one variable $t$ of the form:<br>\n",
    "$f(t)=\\bra{f}\\hat{O}\\ket{f}$ <br>\n",
    "Where $\\hat{O}$ is a Hermitian operator, and $\\ket{f}$ encodes a dependence on two variables: <br>\n",
    "-  $t$: the variable of differentiation.\n",
    "- $\\vec{\\theta}$: an array of trainable parameters such that, after training, $f(t)\\simeq\\bra{f}\\hat{O}\\ket{f}$.\n",
    " \n",
    "In this notebook, $\\ket{f}=\\text{U}(\\vec{\\theta,t})\\ket{0, 0\\,...\\, 0}$ <br>\n",
    "$\\frac{df(t)}{dt}$ is computed in terms of $\\ket{f}$ and $\\hat{O}$ with the Parameter Shift Rule."
   ]
  },
  {
   "cell_type": "code",
   "execution_count": null,
   "metadata": {},
   "outputs": [],
   "source": [
    "# General imports\n",
    "import numpy as np\n",
    "import matplotlib.pyplot as plt\n",
    "import time as tm\n",
    "import pylab as pl\n",
    "from scipy.integrate import solve_ivp\n",
    "from IPython import display\n",
    "from typing import Union\n",
    "\n",
    "# Operator Imports\n",
    "from qiskit.opflow.list_ops.composed_op import ComposedOp\n",
    "from qiskit.opflow.list_ops.summed_op import SummedOp\n",
    "from qiskit.opflow import Z, StateFn, CircuitStateFn\n",
    "from qiskit.opflow.gradients import Gradient\n",
    "\n",
    "# Circuit imports\n",
    "from qiskit.circuit import QuantumCircuit, Parameter, ParameterVector\n",
    "\n",
    "# Optimizers\n",
    "from qiskit.algorithms.optimizers import COBYLA, ADAM"
   ]
  },
  {
   "cell_type": "code",
   "execution_count": null,
   "metadata": {},
   "outputs": [],
   "source": [
    "# # Defining variables for the parametrized circuit.\n",
    "\n",
    "# # number of qubits\n",
    "# n_q = 1\n",
    "# n_params = 5\n",
    "# c = 'nuovo'\n",
    "# n=4\n",
    "# # t is the time variable.\n",
    "# # theta is a vector of adjustable parameters used to fit arbitrary equations.\n",
    "# t = Parameter(\"t\")\n",
    "# theta = ParameterVector(\"theta\",21)\n",
    "\n",
    "\n",
    "# print(f\"{n_q} qubits\")\n",
    "# print(f\"{n*2} theta params\")\n",
    "\n",
    "# # ansatz is a unitary circuit parametrized by the theta vector, which provides adaptability to many differential equations.\n",
    "# ansatz = QuantumCircuit(n_q)\n",
    "\n",
    "# ansatz.ry(t*theta[0]+theta[1],0)\n",
    "# ansatz.ry(t*theta[2]+theta[3],1)\n",
    "# ansatz.ry(t*theta[4]+theta[5],2)\n",
    "\n",
    "\n",
    "# ansatz.draw('mpl')"
   ]
  },
  {
   "attachments": {},
   "cell_type": "markdown",
   "metadata": {},
   "source": [
    "# Circuit 1\n",
    "$\\tt RY(t\\cdot\\theta_0+\\theta_1)\\hspace{1cm}\\forall$ qubit\n",
    "\n",
    "# Circuit 2\n",
    "$\\tt RY(t\\cdot\\theta_0+\\theta_1)\\hspace{1cm}\\forall$ qubit\n",
    "\n",
    "$\\tt CNOT\\hspace{2.5cm}$ with the next qubit as target and the previous qubit as control\n",
    "\n",
    "# Circuit 3\n",
    "$\\tt RY(t\\cdot\\theta_0+\\theta_1)\\hspace{1cm}\\forall$ qubit\n",
    "\n",
    "$\\tt CRX(\\theta_2)\\hspace{2cm}$ with the next qubit as target and the previous qubit as control\n",
    "\n",
    "# Circuit 4\n",
    "\n",
    "$\\tt RY(t\\cdot\\theta_0+\\theta_1)\\hspace{1cm}\\forall$ qubit\n",
    "\n",
    "$\\tt CRX(t\\cdot\\theta_2)\\hspace{1cm}$ with the next qubit as target and the previous qubit as control\n"
   ]
  },
  {
   "cell_type": "code",
   "execution_count": null,
   "metadata": {},
   "outputs": [],
   "source": [
    "# Defining variables for the parametrized circuit.\n",
    "\n",
    "# number of qubits\n",
    "n_q = 1\n",
    "\n",
    "# circuit #1, #2, #3 or #4\n",
    "circ = 1\n",
    "\n",
    "\n",
    "# t is the time variable.\n",
    "t = Parameter(\"t\")\n",
    "\n",
    "k = [[0,n_q*2+1],[0,n_q*2+1],[1,n_q*3],[t,n_q*3]]\n",
    "\n",
    "\n",
    "# theta is a vector of adjustable parameters used to fit arbitrary equations.\n",
    "n_params = k[circ-1][1]\n",
    "theta = ParameterVector(\"theta\",n_params)\n",
    "print(f\"{n_q} qubits\")\n",
    "print(f\"{n_params} theta params\")\n",
    "print(f\"#{circ} quantum circuit\")\n",
    "\n",
    "# ansatz is a unitary circuit parametrized by the theta vector, which provides adaptability to many differential equations.\n",
    "ansatz = QuantumCircuit(n_q)\n",
    "for i in np.arange(n_q):\n",
    "    ansatz.ry(theta[2*i]*t+ theta[2*i+1], i)    \n",
    "    if i < n_q-1: \n",
    "        if circ == 2:\n",
    "            ansatz.cx(i,i+1) \n",
    "        elif circ in [3,4]:\n",
    "            ansatz.crx(k[circ-1][0]*theta[2*n_q+i],i,i+1) \n",
    "\n",
    "ansatz.draw('mpl')\n"
   ]
  },
  {
   "attachments": {},
   "cell_type": "markdown",
   "metadata": {},
   "source": [
    "Define a Hermitian observable to apply to the ansatz:"
   ]
  },
  {
   "cell_type": "code",
   "execution_count": null,
   "metadata": {},
   "outputs": [],
   "source": [
    "# Adding a Hermitian observable\n",
    "observable = theta[-1]*Z \n",
    "for i in np.arange(n_q-1):\n",
    "    observable = observable ^Z\n",
    "print(f\"Observable: {observable}\")\n",
    "\n",
    "# Creating a ComposedOp object, containing the Hermitian operator and the theta-t embedding.\n",
    "op = ~StateFn(observable) @ CircuitStateFn(primitive=ansatz)"
   ]
  },
  {
   "attachments": {},
   "cell_type": "markdown",
   "metadata": {},
   "source": [
    "Create the quantum circuits for describing gradients of the function:"
   ]
  },
  {
   "cell_type": "code",
   "execution_count": null,
   "metadata": {},
   "outputs": [],
   "source": [
    "# Creating first and second derivative generators from op with the parameter shift rule.\n",
    "first_derivative = Gradient(grad_method = 'param_shift').convert(operator = op, params = t)\n",
    "second_derivative = Gradient(grad_method = 'param_shift').convert(operator = first_derivative, params = t)"
   ]
  },
  {
   "attachments": {},
   "cell_type": "markdown",
   "metadata": {},
   "source": [
    "Method to calculate the expectation value $\\bra{f}\\hat{O}\\ket{f}$ at each time point with fixed theta parameters."
   ]
  },
  {
   "cell_type": "code",
   "execution_count": null,
   "metadata": {},
   "outputs": [],
   "source": [
    "def evaluate_function(time: Parameter, weights: ParameterVector, operator: Union[ComposedOp, SummedOp]) -> np.float64:\n",
    "    \"\"\"Returning the expectation value of a circuit\"\"\"\n",
    "    expval = operator.assign_parameters({t:time, theta: weights}).eval()\n",
    "    if np.abs(expval.imag) > 1e-5:\n",
    "        print(\"Expectation value has imaginary part. Check Hermitianity\") \n",
    "    return expval.real"
   ]
  },
  {
   "attachments": {},
   "cell_type": "markdown",
   "metadata": {},
   "source": [
    "Classical processing for the search of optimal quantum parameters.\n",
    "\n",
    "Optimization algorithm: COBYLA\n",
    "\n",
    "Initial parameter: random assignment between 0 and 0.1."
   ]
  },
  {
   "cell_type": "code",
   "execution_count": null,
   "metadata": {},
   "outputs": [],
   "source": [
    "# Training vector weights to approximate the target function.\n",
    "\n",
    "# theta entries are initialized randomly. An additional weight helps the circuit to learn initial conditions.\n",
    "initial_point = 0.1*np.random.rand(theta._size+1)\n",
    "# initial_point = best_params[-1]\n",
    "\n",
    "pt_nb = 15 # Reference points in a time grid\n",
    "tgrid = np.arange(pt_nb)/pt_nb*2*np.pi # t from 0 to 2pi\n",
    "\n",
    "losses = [] # List of losses (will quantify the circuit approximation to f(t))\n",
    "best_params = []\n",
    "\n",
    "# Coefficients and initial conditions of the differential equation of a damped harmonic oscillator\n",
    "a = 1.5 #gamma\n",
    "b = 1 #omega_0\n",
    "c = 0\n",
    "t0 = 0\n",
    "u0 = 0.8\n",
    "du0 = 0\n",
    "\n",
    "# Loss function definition\n",
    "def loss(x):\n",
    "    \n",
    "    f = np.zeros(pt_nb)\n",
    "    df = np.zeros(pt_nb)\n",
    "    ddf = np.zeros(pt_nb)\n",
    "    loss_ct = 0\n",
    "    \n",
    "    for i, t in enumerate(tgrid):\n",
    "        f[i] = evaluate_function(t, x[:-1], op) + x[-1]\n",
    "        df[i] = evaluate_function(t, x[:-1], first_derivative) \n",
    "        ddf[i] = evaluate_function(t, x[:-1], second_derivative) \n",
    "        loss_ct = loss_ct + np.abs(ddf[i] + a*df[i] + b*f[i] + c)\n",
    "    f0 = evaluate_function(t0, x[:-1], op) + x[-1] # Introducing initial condition f(0) = 0.8\n",
    "    df0 = evaluate_function(t0, x[:-1], first_derivative) # Introducing initial condition f'(0) = 0\n",
    "\n",
    "    loss_val = loss_ct + 10*pt_nb*(f0 - u0)**2 + 10*pt_nb*(df0 - du0)**2\n",
    "\n",
    "    losses.append(loss_val) \n",
    "    best_params.append(x)\n",
    "\n",
    "\n",
    "    display.clear_output(wait=True)\n",
    "    # Plot that updates at every learning step.\n",
    "    pl.plot(tgrid, f)\n",
    "    pl.plot(tgrid, df)\n",
    "    #pl.plot(tgrid, ddf)\n",
    "    plt.title(f\"Iterations = {len(losses)}; gamma = {a}; Loss = {loss_val}\")\n",
    "    plt.legend([r\"$f$\",r\"$df/dx$\"])\n",
    "    pl.show()\n",
    "    display.display(pl.gcf()) \n",
    "    tm.sleep(0.01)\n",
    "    print('Loss:',loss_val)\n",
    "    print('best_params:',best_params[-1])\n",
    "    return loss_val\n",
    "\n",
    "\n",
    "# Defining the optimization approach.\n",
    "optimizer = COBYLA(maxiter = 1000, tol = 1e-4, rhobeg = 0.1)\n",
    "# optimizer = ADAM(maxiter = 500, tol = 1e-4, lr = 0.05)\n",
    "\n",
    "# Running the optimization\n",
    "result = optimizer.minimize(fun = loss, x0 = initial_point)"
   ]
  },
  {
   "attachments": {},
   "cell_type": "markdown",
   "metadata": {},
   "source": [
    "Comparison between RK45 solution and quantum solution:"
   ]
  },
  {
   "cell_type": "code",
   "execution_count": null,
   "metadata": {},
   "outputs": [],
   "source": [
    "tdata = np.linspace(0, 2*np.pi, 100)"
   ]
  },
  {
   "cell_type": "code",
   "execution_count": null,
   "metadata": {},
   "outputs": [],
   "source": [
    "def DHO(t,y,gamma,om_0):\n",
    "    return [y[1], - gamma * y[1] - om_0**2 * y[0]]\n",
    "\n",
    "tspan = [tdata[0], tdata[-1]]\n",
    "ic = [u0, du0]\n",
    "rk45_sol = solve_ivp(fun = DHO, t_span = tspan, y0 = ic, method = 'RK45', t_eval = tdata, args = (a, b))"
   ]
  },
  {
   "cell_type": "code",
   "execution_count": null,
   "metadata": {},
   "outputs": [],
   "source": [
    "results = best_params[-1]\n",
    "\n",
    "quantum_f = np.zeros(tdata.shape[0])\n",
    "for i, x in enumerate(tdata):\n",
    "    quantum_f[i] = evaluate_function(x, results[:-1], op) + results[-1]"
   ]
  },
  {
   "attachments": {},
   "cell_type": "markdown",
   "metadata": {},
   "source": [
    "Loss as a function of iterations:"
   ]
  },
  {
   "cell_type": "code",
   "execution_count": null,
   "metadata": {},
   "outputs": [],
   "source": [
    "plt.plot(tdata, quantum_f,label=\"quantum_solution\")\n",
    "plt.plot(tdata, rk45_sol.y[0],label=\"RK45_solution\")\n",
    "plt.title('Comparison between RK45 and Quantum solutions')\n",
    "plt.legend()\n",
    "plt.show()"
   ]
  },
  {
   "cell_type": "code",
   "execution_count": null,
   "metadata": {},
   "outputs": [],
   "source": [
    "plt.plot(losses)"
   ]
  },
  {
   "cell_type": "code",
   "execution_count": null,
   "metadata": {},
   "outputs": [],
   "source": [
    "RSS = 0\n",
    "for i in range(len(tdata)):\n",
    "    RSS = RSS + (quantum_f[i]-rk45_sol.y[0][i])**2\n",
    "print('RSS =',RSS)"
   ]
  }
 ],
 "metadata": {
  "kernelspec": {
   "display_name": "IBM-QC-venv",
   "language": "python",
   "name": "python3"
  },
  "language_info": {
   "codemirror_mode": {
    "name": "ipython",
    "version": 3
   },
   "file_extension": ".py",
   "mimetype": "text/x-python",
   "name": "python",
   "nbconvert_exporter": "python",
   "pygments_lexer": "ipython3",
   "version": "3.11.3"
  },
  "orig_nbformat": 4
 },
 "nbformat": 4,
 "nbformat_minor": 2
}
